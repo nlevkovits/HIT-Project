{
 "cells": [
  {
   "cell_type": "code",
   "execution_count": null,
   "metadata": {
    "collapsed": true
   },
   "outputs": [],
   "source": [
    "#importing basic packages\n",
    "from bs4 import BeautifulSoup\n",
    "import requests\n",
    "import csv"
   ]
  },
  {
   "cell_type": "code",
   "execution_count": null,
   "outputs": [],
   "source": [
    "#Resources of data scraping\n",
    "url1 = 'https://urlhaus-api.abuse.ch/v1/urls/recent/'\n",
    "url2 = 'https://www.phishtank.com/phish_search.php?page={}&Search=Search'.format(num)\n",
    "url3 = \"https://www.sites.google.com/site/top10000alexadomains/top-10000-alexa-domains\""
   ],
   "metadata": {
    "collapsed": false,
    "pycharm": {
     "name": "#%%\n"
    }
   }
  },
  {
   "cell_type": "markdown",
   "source": [
    "## **3. Scraping the legit urls Data and ingest it into csv file for pandas use**\n",
    "\n",
    "page3 = requests.get(url3)\n",
    "    resource_3 = []\n",
    "\n",
    "    soup = BeautifulSoup(page3.content, 'html.parser')\n",
    "    mydivs = soup.find_all(\"table\", {\"class\": \"sites-layout-name-one-column sites-layout-hbox\"})[0]\n",
    "    count = 0\n",
    "    valid_urls = []\n",
    "\n",
    "    tr = mydivs.find_all('tr')[0]\n",
    "    tds = tr.find_all('td')\n",
    "    all_urls_not_parsed = tds[0].text.split('\\n')\n",
    "    table_len = len(all_urls_not_parsed)\n",
    "    for i in range(0, table_len):\n",
    "        valid_urls.append(all_urls_not_parsed[i].split(' ')[2])\n",
    "        count += 1\n",
    "\n",
    "    print(count)\n",
    "    with open('legit_urls.csv', \"w\") as csv_file:\n",
    "        writer = csv.writer(csv_file, lineterminator='\\n')\n",
    "        for line in valid_urls:\n",
    "            writer.writerow([line])"
   ],
   "metadata": {
    "collapsed": false
   }
  },
  {
   "cell_type": "code",
   "execution_count": null,
   "outputs": [],
   "source": [
    "#Scraping the phishing urls Data and ingest it into csv file for pandas use\n",
    "page1 = requests.get(url1)\n",
    "    resource_1 = [url['url'] for url in page1.json()['urls']]\n",
    "    for i in range(1, 225):\n",
    "        print(i)\n",
    "        url2 = 'https://www.phishtank.com/phish_search.php?page={}&Search=Search'.format(i)\n",
    "        page2 = requests.get(url2)\n",
    "\n",
    "        soup = BeautifulSoup(page2.content, 'html.parser')\n",
    "\n",
    "        mydivs = soup.find_all(\"table\", {\"class\": \"data\"})[0]\n",
    "\n",
    "        for tr in mydivs.find_all('tr')[2:]:\n",
    "            tds = tr.find_all('td')\n",
    "            resource_1.append(tds[1].text.split('added')[0])\n",
    "\n",
    "\n",
    "    with open('verified_online.csv', \"w\") as csv_file:\n",
    "        writer = csv.writer(csv_file, lineterminator='\\n')\n",
    "        for line in resource_1:\n",
    "            writer.writerow([line])"
   ],
   "metadata": {
    "collapsed": false,
    "pycharm": {
     "name": "#%%\n"
    }
   }
  }
 ],
 "metadata": {
  "kernelspec": {
   "display_name": "Python 3",
   "language": "python",
   "name": "python3"
  },
  "language_info": {
   "codemirror_mode": {
    "name": "ipython",
    "version": 2
   },
   "file_extension": ".py",
   "mimetype": "text/x-python",
   "name": "python",
   "nbconvert_exporter": "python",
   "pygments_lexer": "ipython2",
   "version": "2.7.6"
  }
 },
 "nbformat": 4,
 "nbformat_minor": 0
}